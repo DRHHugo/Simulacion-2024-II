{
 "cells": [
  {
   "cell_type": "markdown",
   "metadata": {},
   "source": [
    "# Act - 700"
   ]
  },
  {
   "cell_type": "code",
   "execution_count": 1,
   "metadata": {},
   "outputs": [],
   "source": [
    "from os import chdir\n",
    "import requests\n",
    "simulation_700_url = 'https://raw.githubusercontent.com/DRHHugo/Simulacion-2024-II/main/Act-700/'\n",
    "simulation_701_url = 'https://raw.githubusercontent.com/DRHHugo/Simulacion-2024-II/main/Act-701/'\n",
    "\n",
    "class repository:\n",
    "    def __init__(rep_url:str):\n",
    "        self._url = rep_url\n",
    "    @property\n",
    "    def url(self):\n",
    "        return self._url\n",
    "    def get_file_content(self,name:str):\n",
    "        file_url = self._url+name\n",
    "        server_response = requests.get(file_url)\n",
    "        if server_response.status_code == 200:\n",
    "            return server_response.text\n",
    "        elif server_response.status_code == 404: \n",
    "            # File does not exist in server\n",
    "            raise ValueError(name+' does not exist in server')\n",
    "        else:\n",
    "            # Another error \n",
    "            raise ValueError('thers a problem with server')\n",
    "\n",
    "def set_local_path(path:str):\n",
    "    chdir(path)\n"
   ]
  },
  {
   "cell_type": "code",
   "execution_count": 2,
   "metadata": {},
   "outputs": [],
   "source": [
    "exec(get_file_content('primes.py'))\n",
    "exec(get_file_content('08-08 Tarea.py'))"
   ]
  },
  {
   "cell_type": "code",
   "execution_count": 4,
   "metadata": {},
   "outputs": [],
   "source": []
  },
  {
   "cell_type": "code",
   "execution_count": 11,
   "metadata": {},
   "outputs": [
    {
     "data": {
      "text/plain": [
       "1056"
      ]
     },
     "execution_count": 11,
     "metadata": {},
     "output_type": "execute_result"
    }
   ],
   "source": [
    "periodo_maximo(2231)"
   ]
  },
  {
   "cell_type": "markdown",
   "metadata": {},
   "source": [
    "## PseusoRandom Number Generators"
   ]
  },
  {
   "cell_type": "markdown",
   "metadata": {},
   "source": [
    "### Multiplicative Congruencial PseudoRandom Generators"
   ]
  },
  {
   "cell_type": "code",
   "execution_count": null,
   "metadata": {},
   "outputs": [],
   "source": []
  }
 ],
 "metadata": {
  "kernelspec": {
   "display_name": "Python 3",
   "language": "python",
   "name": "python3"
  },
  "language_info": {
   "codemirror_mode": {
    "name": "ipython",
    "version": 3
   },
   "file_extension": ".py",
   "mimetype": "text/x-python",
   "name": "python",
   "nbconvert_exporter": "python",
   "pygments_lexer": "ipython3",
   "version": "3.11.4"
  }
 },
 "nbformat": 4,
 "nbformat_minor": 2
}

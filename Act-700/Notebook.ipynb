{
 "cells": [
  {
   "cell_type": "markdown",
   "metadata": {},
   "source": [
    "# Act - 700"
   ]
  },
  {
   "cell_type": "code",
   "execution_count": 1,
   "metadata": {},
   "outputs": [],
   "source": [
    "from os import chdir\n",
    "import requests\n",
    "parental_url = 'https://raw.githubusercontent.com/DRHHugo/Simulacion-2024-II/main/Act-700/'\n",
    "\n",
    "def set_local_path(path):\n",
    "    chdir (path)\n",
    "\n",
    "def get_file_content(name:str):\n",
    "    url = parental_url+name\n",
    "    server_response = requests.get(url)\n",
    "    if server_response.status_code == 200:\n",
    "        return server_response.text\n",
    "    else: \n",
    "        return ''\n",
    "        raise ValueError(name+'does not exist in server')\n",
    "\n",
    "def import_file(name:str):\n",
    "    FILE = open(name,'xt')\n",
    "    FILE.write(get_file_content(name))\n",
    "    FILE.close()"
   ]
  },
  {
   "cell_type": "code",
   "execution_count": 2,
   "metadata": {},
   "outputs": [],
   "source": [
    "set_local_path('C:\\\\Users\\\\hhcor\\\\Documents')"
   ]
  },
  {
   "cell_type": "markdown",
   "metadata": {},
   "source": [
    "## PseusoRandom Number Generators"
   ]
  },
  {
   "cell_type": "markdown",
   "metadata": {},
   "source": [
    "### Multiplicative Congruencial PseudoRandom Generators"
   ]
  },
  {
   "cell_type": "code",
   "execution_count": 3,
   "metadata": {},
   "outputs": [],
   "source": [
    "import_file('primes.py')\n",
    "exec(get_file_content('08-08 Tarea.py'))"
   ]
  },
  {
   "cell_type": "code",
   "execution_count": 4,
   "metadata": {},
   "outputs": [
    {
     "data": {
      "text/plain": [
       "816"
      ]
     },
     "execution_count": 4,
     "metadata": {},
     "output_type": "execute_result"
    }
   ],
   "source": [
    "periodo_maximo(2023)"
   ]
  },
  {
   "cell_type": "code",
   "execution_count": 5,
   "metadata": {},
   "outputs": [
    {
     "data": {
      "text/plain": [
       "[1,\n",
       " 2,\n",
       " 3,\n",
       " 4,\n",
       " 6,\n",
       " 8,\n",
       " 12,\n",
       " 16,\n",
       " 17,\n",
       " 24,\n",
       " 34,\n",
       " 48,\n",
       " 51,\n",
       " 68,\n",
       " 102,\n",
       " 136,\n",
       " 204,\n",
       " 272,\n",
       " 408,\n",
       " 816]"
      ]
     },
     "execution_count": 5,
     "metadata": {},
     "output_type": "execute_result"
    }
   ],
   "source": [
    "multiplier_orders(2023)"
   ]
  },
  {
   "cell_type": "code",
   "execution_count": 6,
   "metadata": {},
   "outputs": [
    {
     "data": {
      "text/plain": [
       "816"
      ]
     },
     "execution_count": 6,
     "metadata": {},
     "output_type": "execute_result"
    }
   ],
   "source": [
    "multiplier_order(541,2023)"
   ]
  },
  {
   "cell_type": "code",
   "execution_count": null,
   "metadata": {},
   "outputs": [],
   "source": []
  }
 ],
 "metadata": {
  "kernelspec": {
   "display_name": "Python 3",
   "language": "python",
   "name": "python3"
  },
  "language_info": {
   "codemirror_mode": {
    "name": "ipython",
    "version": 3
   },
   "file_extension": ".py",
   "mimetype": "text/x-python",
   "name": "python",
   "nbconvert_exporter": "python",
   "pygments_lexer": "ipython3",
   "version": "3.11.4"
  }
 },
 "nbformat": 4,
 "nbformat_minor": 2
}

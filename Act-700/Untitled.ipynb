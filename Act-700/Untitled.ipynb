{
 "cells": [
  {
   "cell_type": "code",
   "execution_count": 14,
   "id": "dc6fc130-7076-4e99-a876-c73b1c2defe3",
   "metadata": {},
   "outputs": [],
   "source": [
    "def num_to_base_2(n:int,k:int|None=None) -> list[bool]|None:\n",
    "    if k==None:\n",
    "        if n<0:\n",
    "            return None\n",
    "        if n==0:\n",
    "            return [False]\n",
    "        if n==1:\n",
    "            return [True]\n",
    "        bit = False if n%2==0 else True\n",
    "        rest = num_to_base_2(n//2)\n",
    "        rest.insert(0,bit)\n",
    "        return rest\n",
    "    elif k<0:\n",
    "        return None\n",
    "    else:\n",
    "        n=n%(2**k)\n",
    "        rep = num_to_base_2(n,None)\n",
    "        while len(rep)<k:\n",
    "            rep = rep + [False]\n",
    "        return rep\n",
    "\n",
    "def base_2_to_num(l:list[bool])->int|None:\n",
    "    if len(l)==0:\n",
    "        return None\n",
    "    if len(l)==1:\n",
    "        return int(l[0])\n",
    "    else:\n",
    "        return l[0]+2*base_2_to_num(l[1:len(l)])\n",
    "\n",
    "def linear_feedback(l:list[bool]):\n",
    "    return [l[1],l[2],l[3],l[0]^l[1]]"
   ]
  },
  {
   "cell_type": "code",
   "execution_count": 2,
   "id": "1364756a-4533-488d-bfd2-9539bfd6a6c1",
   "metadata": {},
   "outputs": [
    {
     "data": {
      "text/plain": [
       "[True, False, True, False]"
      ]
     },
     "execution_count": 2,
     "metadata": {},
     "output_type": "execute_result"
    }
   ],
   "source": [
    "num_to_base_2(5,4)"
   ]
  },
  {
   "cell_type": "code",
   "execution_count": 8,
   "id": "7c1f1c5c-02c6-4ea8-a846-3b03f30b452a",
   "metadata": {},
   "outputs": [
    {
     "data": {
      "text/plain": [
       "2"
      ]
     },
     "execution_count": 8,
     "metadata": {},
     "output_type": "execute_result"
    }
   ],
   "source": [
    "base_2_to_num(linear_feedback(num_to_base_2(5,4)))"
   ]
  },
  {
   "cell_type": "code",
   "execution_count": 9,
   "id": "62786780-3e53-4e05-9efc-b5a4a7b2ef5a",
   "metadata": {},
   "outputs": [
    {
     "data": {
      "text/plain": [
       "1"
      ]
     },
     "execution_count": 9,
     "metadata": {},
     "output_type": "execute_result"
    }
   ],
   "source": [
    "base_2_to_num(linear_feedback(num_to_base_2(2,4)))"
   ]
  },
  {
   "cell_type": "code",
   "execution_count": 10,
   "id": "dfe419e8-d25b-4bc6-b8d5-2e7d8a60a89e",
   "metadata": {},
   "outputs": [
    {
     "data": {
      "text/plain": [
       "8"
      ]
     },
     "execution_count": 10,
     "metadata": {},
     "output_type": "execute_result"
    }
   ],
   "source": [
    "base_2_to_num(linear_feedback(num_to_base_2(1,4)))"
   ]
  },
  {
   "cell_type": "code",
   "execution_count": 11,
   "id": "2819ba0b-387e-4544-ae3b-4049f9a99c9c",
   "metadata": {},
   "outputs": [
    {
     "data": {
      "text/plain": [
       "12"
      ]
     },
     "execution_count": 11,
     "metadata": {},
     "output_type": "execute_result"
    }
   ],
   "source": [
    "base_2_to_num(linear_feedback(num_to_base_2(8,4)))"
   ]
  },
  {
   "cell_type": "code",
   "execution_count": 12,
   "id": "b8feaa9f-e519-4ac3-bd03-42a90f7a9049",
   "metadata": {},
   "outputs": [
    {
     "data": {
      "text/plain": [
       "6"
      ]
     },
     "execution_count": 12,
     "metadata": {},
     "output_type": "execute_result"
    }
   ],
   "source": [
    "base_2_to_num(linear_feedback(num_to_base_2(12,4)))"
   ]
  },
  {
   "cell_type": "code",
   "execution_count": 15,
   "id": "169187fc-c020-4859-b7c5-b975c13eb013",
   "metadata": {},
   "outputs": [
    {
     "name": "stdout",
     "output_type": "stream",
     "text": [
      "8\n",
      "4\n",
      "2\n",
      "9\n",
      "12\n",
      "6\n",
      "11\n",
      "5\n",
      "10\n",
      "13\n",
      "14\n",
      "15\n",
      "7\n",
      "3\n",
      "1\n"
     ]
    }
   ],
   "source": [
    "x = 1\n",
    "x = base_2_to_num(linear_feedback(num_to_base_2(x,4)))\n",
    "print(x)\n",
    "while x!=1:\n",
    "    x = base_2_to_num(linear_feedback(num_to_base_2(x,4)))\n",
    "    print(x)"
   ]
  },
  {
   "cell_type": "code",
   "execution_count": null,
   "id": "25e0b5a3-f628-4346-9f50-55260a4d7e27",
   "metadata": {},
   "outputs": [],
   "source": []
  }
 ],
 "metadata": {
  "kernelspec": {
   "display_name": "Python 3 (ipykernel)",
   "language": "python",
   "name": "python3"
  },
  "language_info": {
   "codemirror_mode": {
    "name": "ipython",
    "version": 3
   },
   "file_extension": ".py",
   "mimetype": "text/x-python",
   "name": "python",
   "nbconvert_exporter": "python",
   "pygments_lexer": "ipython3",
   "version": "3.12.3"
  }
 },
 "nbformat": 4,
 "nbformat_minor": 5
}

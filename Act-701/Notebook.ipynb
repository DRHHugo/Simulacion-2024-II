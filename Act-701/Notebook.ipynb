{
 "cells": [
  {
   "cell_type": "markdown",
   "metadata": {},
   "source": [
    "# Act - 700"
   ]
  },
  {
   "cell_type": "code",
   "execution_count": 3,
   "metadata": {},
   "outputs": [],
   "source": [
    "from os import chdir\n",
    "import requests\n",
    "simulation_700_url = 'https://raw.githubusercontent.com/DRHHugo/Simulacion-2024-II/main/Act-700/'\n",
    "\n",
    "class repository:\n",
    "    def __init__(self,rep_url:str):\n",
    "        self._url = rep_url\n",
    "    @property\n",
    "    def url(self):\n",
    "        return self._url\n",
    "    def get_file_content(self,name:str):\n",
    "        file_url = self._url+name\n",
    "        server_response = requests.get(file_url)\n",
    "        if server_response.status_code == 200:\n",
    "            return server_response.text\n",
    "        elif server_response.status_code == 404: \n",
    "            # File does not exist in server\n",
    "            raise ValueError(name+' does not exist in server')\n",
    "        else:\n",
    "            # Another error \n",
    "            raise ValueError('thers a problem with server')\n",
    "    def exec_file(self,name:str):\n",
    "        file_url = self._url+name\n",
    "        server_response = requests.get(file_url)\n",
    "        if server_response.status_code == 200:\n",
    "            exec(server_response.text,globals())\n",
    "            return True\n",
    "        else:\n",
    "            # An error ocurr trying to pull file\n",
    "            return False\n",
    "\n",
    "def set_local_path(path:str):\n",
    "    chdir(path)\n"
   ]
  },
  {
   "cell_type": "code",
   "execution_count": 4,
   "metadata": {},
   "outputs": [
    {
     "data": {
      "text/plain": [
       "True"
      ]
     },
     "execution_count": 4,
     "metadata": {},
     "output_type": "execute_result"
    }
   ],
   "source": [
    "simulation_rep = repository(simulation_700_url)\n",
    "simulation_rep.exec_file('primes.py')\n",
    "simulation_rep.exec_file('08-08 Tarea.py')"
   ]
  },
  {
   "cell_type": "markdown",
   "metadata": {},
   "source": [
    "## PseusoRandom Number Generators"
   ]
  },
  {
   "cell_type": "markdown",
   "metadata": {},
   "source": [
    "### Multiplicative Congruencial PseudoRandom Generators"
   ]
  },
  {
   "cell_type": "code",
   "execution_count": 6,
   "metadata": {},
   "outputs": [
    {
     "data": {
      "text/plain": [
       "1056"
      ]
     },
     "execution_count": 6,
     "metadata": {},
     "output_type": "execute_result"
    }
   ],
   "source": [
    "periodo_maximo(2231)"
   ]
  },
  {
   "cell_type": "code",
   "execution_count": 8,
   "metadata": {},
   "outputs": [
    {
     "data": {
      "text/plain": [
       "[1,\n",
       " 2,\n",
       " 3,\n",
       " 4,\n",
       " 6,\n",
       " 8,\n",
       " 11,\n",
       " 12,\n",
       " 16,\n",
       " 22,\n",
       " 24,\n",
       " 32,\n",
       " 33,\n",
       " 44,\n",
       " 48,\n",
       " 66,\n",
       " 88,\n",
       " 96,\n",
       " 132,\n",
       " 176,\n",
       " 264,\n",
       " 352,\n",
       " 528,\n",
       " 1056]"
      ]
     },
     "execution_count": 8,
     "metadata": {},
     "output_type": "execute_result"
    }
   ],
   "source": [
    "multiplier_orders(2231)"
   ]
  },
  {
   "cell_type": "code",
   "execution_count": 19,
   "metadata": {},
   "outputs": [
    {
     "data": {
      "text/plain": [
       "1056"
      ]
     },
     "execution_count": 19,
     "metadata": {},
     "output_type": "execute_result"
    }
   ],
   "source": [
    "multiplier_order(1997,2231)"
   ]
  },
  {
   "cell_type": "code",
   "execution_count": 20,
   "metadata": {},
   "outputs": [],
   "source": [
    "def multiplicative_PRCG(m:int,b:int,x:int,n:int):\n",
    "    x=x%m\n",
    "    return [x:=b*x%m for _ in range(n)]"
   ]
  },
  {
   "cell_type": "code",
   "execution_count": 21,
   "metadata": {},
   "outputs": [],
   "source": [
    "sample = multiplicative_PRCG(2231,1997,250,50)"
   ]
  },
  {
   "cell_type": "code",
   "execution_count": 22,
   "metadata": {},
   "outputs": [],
   "source": [
    "from matplotlib import pyplot"
   ]
  },
  {
   "cell_type": "code",
   "execution_count": 24,
   "metadata": {},
   "outputs": [
    {
     "data": {
      "image/png": "[encoded data removed]",
      "text/plain": [
       "<Figure size 640x480 with 1 Axes>"
      ]
     },
     "metadata": {},
     "output_type": "display_data"
    }
   ],
   "source": [
    "pyplot.hist(sample)\n",
    "pyplot.show()"
   ]
  },
  {
   "cell_type": "code",
   "execution_count": null,
   "metadata": {},
   "outputs": [],
   "source": []
  }
 ],
 "metadata": {
  "kernelspec": {
   "display_name": "Python 3",
   "language": "python",
   "name": "python3"
  },
  "language_info": {
   "codemirror_mode": {
    "name": "ipython",
    "version": 3
   },
   "file_extension": ".py",
   "mimetype": "text/x-python",
   "name": "python",
   "nbconvert_exporter": "python",
   "pygments_lexer": "ipython3",
   "version": "3.11.4"
  }
 },
 "nbformat": 4,
 "nbformat_minor": 2
}

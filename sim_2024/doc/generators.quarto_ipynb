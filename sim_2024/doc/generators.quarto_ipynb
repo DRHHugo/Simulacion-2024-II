{
  "cells": [
    {
      "cell_type": "markdown",
      "metadata": {},
      "source": [
        "---\n",
        "jupyter: python3\n",
        "---"
      ],
      "id": "92c99f26"
    },
    {
      "cell_type": "code",
      "metadata": {},
      "source": [
        "#| include: false\n",
        "#| echo: false\n",
        "from os import chdir\n",
        "chdir('D:\\\\OneDrive\\\\Documents\\\\GitHub\\\\Simulacion-2024-II\\\\sim_2024\\\\src')\n",
        "from sim_2024.generators import *"
      ],
      "id": "8e861778",
      "execution_count": null,
      "outputs": []
    },
    {
      "cell_type": "markdown",
      "metadata": {},
      "source": [
        "# Generadores pseudoaleatorios\n",
        "\n",
        "Aqui vamos a poner cosas sobre el apartado de generadores\n"
      ],
      "id": "c318e2c9"
    },
    {
      "cell_type": "code",
      "metadata": {},
      "source": [
        "#| include: true\n",
        "RANDU = multiplicative_congruential_generator(mod=2**31,mult=65539,seed=14501)"
      ],
      "id": "27500f2d",
      "execution_count": null,
      "outputs": []
    }
  ],
  "metadata": {
    "kernelspec": {
      "name": "python3",
      "language": "python",
      "display_name": "Python 3 (ipykernel)",
      "path": "C:\\ProgramData\\jupyter\\kernels\\python3"
    }
  },
  "nbformat": 4,
  "nbformat_minor": 5
}
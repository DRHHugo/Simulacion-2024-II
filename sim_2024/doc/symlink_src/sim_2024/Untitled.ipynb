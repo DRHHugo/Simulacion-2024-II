{
 "cells": [
  {
   "cell_type": "code",
   "execution_count": 1,
   "id": "f8b6cdd2-5525-4d93-be0c-87a7f3349748",
   "metadata": {},
   "outputs": [],
   "source": [
    "FILE_init = open('__init__.py')\n",
    "exec(FILE_init.read())\n",
    "FILE_gen = open('generators.py')\n",
    "exec(FILE_gen.read())"
   ]
  },
  {
   "cell_type": "code",
   "execution_count": 2,
   "id": "82cc3b71-ec03-42e4-afe4-10ebada70142",
   "metadata": {},
   "outputs": [],
   "source": [
    "random = multcombi_congruential_generator(mods=[67891200,97679951],mults=[45,68,1245,3349,980,234],seeds=[34001,561234,90123,21998,567,456])"
   ]
  },
  {
   "cell_type": "code",
   "execution_count": 4,
   "id": "8b1f9e3f-ad6d-4d24-889b-260cb6510b6e",
   "metadata": {},
   "outputs": [
    {
     "data": {
      "text/plain": [
       "[34001, 561234, 90123]"
      ]
     },
     "execution_count": 4,
     "metadata": {},
     "output_type": "execute_result"
    }
   ],
   "source": [
    "random._state_1"
   ]
  },
  {
   "cell_type": "code",
   "execution_count": 5,
   "id": "ac970000-5ec1-45a4-9d03-9b8fc08ab997",
   "metadata": {},
   "outputs": [
    {
     "data": {
      "text/plain": [
       "[561234, 90123, 16114692]"
      ]
     },
     "execution_count": 5,
     "metadata": {},
     "output_type": "execute_result"
    }
   ],
   "source": [
    "random.rand()\n",
    "random._state_1"
   ]
  },
  {
   "cell_type": "code",
   "execution_count": 7,
   "id": "4e4ff7a8-30b0-4889-ab12-279a0442b082",
   "metadata": {},
   "outputs": [
    {
     "data": {
      "text/plain": [
       "0.07255551529506034"
      ]
     },
     "execution_count": 7,
     "metadata": {},
     "output_type": "execute_result"
    }
   ],
   "source": [
    "random.rand()"
   ]
  },
  {
   "cell_type": "code",
   "execution_count": 9,
   "id": "97347612-0a57-4f40-b314-6a3697cc97ab",
   "metadata": {},
   "outputs": [
    {
     "data": {
      "text/plain": [
       "[456, 16114692, 66271434]"
      ]
     },
     "execution_count": 9,
     "metadata": {},
     "output_type": "execute_result"
    }
   ],
   "source": [
    "random._state_2"
   ]
  },
  {
   "cell_type": "code",
   "execution_count": null,
   "id": "7ed3249b-6628-4d5e-b306-5db8d6f23749",
   "metadata": {},
   "outputs": [],
   "source": []
  }
 ],
 "metadata": {
  "kernelspec": {
   "display_name": "Python 3 (ipykernel)",
   "language": "python",
   "name": "python3"
  },
  "language_info": {
   "codemirror_mode": {
    "name": "ipython",
    "version": 3
   },
   "file_extension": ".py",
   "mimetype": "text/x-python",
   "name": "python",
   "nbconvert_exporter": "python",
   "pygments_lexer": "ipython3",
   "version": "3.12.0"
  }
 },
 "nbformat": 4,
 "nbformat_minor": 5
}

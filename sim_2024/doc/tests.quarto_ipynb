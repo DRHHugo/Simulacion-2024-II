{
  "cells": [
    {
      "cell_type": "markdown",
      "metadata": {},
      "source": [
        "---\n",
        "jupyter: python3\n",
        "---"
      ],
      "id": "87f373af"
    },
    {
      "cell_type": "code",
      "metadata": {},
      "source": [
        "#| include: false\n",
        "#| echo: false\n",
        "from os import chdir\n",
        "chdir('D:\\\\OneDrive\\\\Documents\\\\GitHub\\\\Simulacion-2024-II\\\\sim_2024\\\\src')\n",
        "from sim_2024.tests import *\n",
        "from sim_2024.generators import *"
      ],
      "id": "ff2e97dd",
      "execution_count": null,
      "outputs": []
    },
    {
      "cell_type": "markdown",
      "metadata": {},
      "source": [
        "# Pruebas de aleatoriedad\n",
        "\n",
        "Aqui vamos a poner la documentacion del modulo tests\n"
      ],
      "id": "727c280c"
    },
    {
      "cell_type": "code",
      "metadata": {},
      "source": [
        "#| include: false\n",
        "RANDU = multiplicative_congruential_generator(mod=2**31,mult=65539,seed=14501)\n",
        "sample = RANDU.sample(1000)"
      ],
      "id": "c14bc7e3",
      "execution_count": null,
      "outputs": []
    },
    {
      "cell_type": "code",
      "metadata": {},
      "source": [
        "#| include: true\n",
        "#| echo: true\n",
        "mean_test(sample)"
      ],
      "id": "fe3b0740",
      "execution_count": null,
      "outputs": []
    }
  ],
  "metadata": {
    "kernelspec": {
      "name": "python3",
      "language": "python",
      "display_name": "Python 3 (ipykernel)",
      "path": "C:\\ProgramData\\jupyter\\kernels\\python3"
    }
  },
  "nbformat": 4,
  "nbformat_minor": 5
}
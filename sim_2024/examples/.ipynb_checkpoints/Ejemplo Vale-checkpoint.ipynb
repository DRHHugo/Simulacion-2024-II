{
 "cells": [
  {
   "cell_type": "code",
   "execution_count": 1,
   "id": "4c9f4501-9901-45cd-b757-0e74c086f97c",
   "metadata": {},
   "outputs": [],
   "source": [
    "#config PATH\n",
    "from os import chdir,getcwd\n",
    "directory = getcwd()\n",
    "directory_list = directory.split('\\\\')\n",
    "chdir('\\\\'.join(directory_list[0:len(directory_list)-1])+'\\\\src')\n",
    "#import package\n",
    "from sim_2024.generators import *\n",
    "random = multiplicative_congruential_generator(mod=2**32,mult=65321,seed=48158)"
   ]
  },
  {
   "cell_type": "code",
   "execution_count": 2,
   "id": "8ef235c8-0d25-4844-a6eb-8e7df0b02fbb",
   "metadata": {},
   "outputs": [],
   "source": [
    "class Bernoulli:\n",
    "    def __init__(self,p):\n",
    "        self.p = p\n",
    "    def simular(self,n):\n",
    "        sample = []\n",
    "        for _ in range(n):\n",
    "            u = random.rand()\n",
    "            if u<self.p:\n",
    "                sample.append(1)\n",
    "            else:\n",
    "                sample.append(0)\n",
    "\n",
    "        return sample"
   ]
  },
  {
   "cell_type": "code",
   "execution_count": 3,
   "id": "53996c78-3078-4535-b945-39781ec949dc",
   "metadata": {},
   "outputs": [],
   "source": [
    "X = Bernoulli(0.25)"
   ]
  },
  {
   "cell_type": "code",
   "execution_count": 9,
   "id": "8bc8fb25-709a-4b83-995f-425a185a1146",
   "metadata": {},
   "outputs": [
    {
     "name": "stdout",
     "output_type": "stream",
     "text": [
      "0.23\n",
      "0.258\n",
      "0.247\n",
      "0.2517\n"
     ]
    }
   ],
   "source": [
    "for size in [100,500,1000,20000]:\n",
    "    sample_X = X.simular(size)\n",
    "    print(sum(sample_X)/len(sample_X))"
   ]
  },
  {
   "cell_type": "code",
   "execution_count": null,
   "id": "cc9ed0b0-bc03-4e0d-8718-a5723d9ddcc3",
   "metadata": {},
   "outputs": [],
   "source": []
  }
 ],
 "metadata": {
  "kernelspec": {
   "display_name": "Python 3 (ipykernel)",
   "language": "python",
   "name": "python3"
  },
  "language_info": {
   "codemirror_mode": {
    "name": "ipython",
    "version": 3
   },
   "file_extension": ".py",
   "mimetype": "text/x-python",
   "name": "python",
   "nbconvert_exporter": "python",
   "pygments_lexer": "ipython3",
   "version": "3.12.0"
  }
 },
 "nbformat": 4,
 "nbformat_minor": 5
}

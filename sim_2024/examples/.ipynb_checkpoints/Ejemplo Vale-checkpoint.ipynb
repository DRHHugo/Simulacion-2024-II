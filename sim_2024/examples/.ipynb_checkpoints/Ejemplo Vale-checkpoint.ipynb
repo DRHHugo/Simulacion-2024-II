{
 "cells": [
  {
   "cell_type": "code",
   "execution_count": 1,
   "id": "4c9f4501-9901-45cd-b757-0e74c086f97c",
   "metadata": {},
   "outputs": [],
   "source": [
    "#config PATH\n",
    "from os import chdir,getcwd\n",
    "directory = getcwd()\n",
    "directory_list = directory.split('\\\\')\n",
    "chdir('\\\\'.join(directory_list[0:len(directory_list)-1])+'\\\\src')\n",
    "#import package\n",
    "from sim_2024.generators import *\n",
    "random = multiplicative_congruential_generator(mod=2**32,mult=65321,seed=48158)"
   ]
  },
  {
   "cell_type": "code",
   "execution_count": 2,
   "id": "8ef235c8-0d25-4844-a6eb-8e7df0b02fbb",
   "metadata": {},
   "outputs": [],
   "source": [
    "class Bernoulli:\n",
    "    def __init__(self,p):\n",
    "        self.p = p\n",
    "    def simular(self,n):\n",
    "        sample = []\n",
    "        for _ in range(n):\n",
    "            u = random.rand()\n",
    "            if u<self.p:\n",
    "                sample.append(1)\n",
    "            else:\n",
    "                sample.append(0)\n",
    "\n",
    "        return sample"
   ]
  },
  {
   "cell_type": "code",
   "execution_count": 3,
   "id": "53996c78-3078-4535-b945-39781ec949dc",
   "metadata": {},
   "outputs": [],
   "source": [
    "X = Bernoulli(0.25)"
   ]
  },
  {
   "cell_type": "code",
   "execution_count": 4,
   "id": "8bc8fb25-709a-4b83-995f-425a185a1146",
   "metadata": {},
   "outputs": [
    {
     "name": "stdout",
     "output_type": "stream",
     "text": [
      "0.18\n",
      "0.224\n",
      "0.255\n",
      "0.2535\n"
     ]
    }
   ],
   "source": [
    "for size in [100,500,1000,2000]:\n",
    "    sample_X = X.simular(size)\n",
    "    print(sum(sample_X)/len(sample_X))"
   ]
  },
  {
   "cell_type": "code",
   "execution_count": 5,
   "id": "cc9ed0b0-bc03-4e0d-8718-a5723d9ddcc3",
   "metadata": {},
   "outputs": [],
   "source": [
    "class Emma:\n",
    "    def __init__(self):\n",
    "        self.p1 = 0.17\n",
    "        self.p2 = 0.52\n",
    "        self.p3 = 0.31\n",
    "        self.x1 = 13\n",
    "        self.x2 = 18\n",
    "        self.x3 = 26\n",
    "    def simular(self):\n",
    "        u = random.rand()\n",
    "        if u<self.p1:\n",
    "            return self.x1\n",
    "        elif u<self.p1+self.p2:\n",
    "            return self.x2\n",
    "        else:\n",
    "            return self.x3"
   ]
  },
  {
   "cell_type": "code",
   "execution_count": 6,
   "id": "556bd35a-97d9-4641-87d1-01bc36419dc7",
   "metadata": {},
   "outputs": [],
   "source": [
    "Y = Emma()"
   ]
  },
  {
   "cell_type": "code",
   "execution_count": 15,
   "id": "5cb024f1-233e-4a2e-9a31-6e20066bb671",
   "metadata": {},
   "outputs": [
    {
     "data": {
      "text/plain": [
       "0.5298"
      ]
     },
     "execution_count": 15,
     "metadata": {},
     "output_type": "execute_result"
    }
   ],
   "source": [
    "#sample = [Y.simular() for _ in range(5000)]\n",
    "# sample.count(13)/5000\n",
    "sample.count(18)/5000"
   ]
  },
  {
   "cell_type": "code",
   "execution_count": null,
   "id": "502b3a54-f4d7-46bc-9c7a-72ddc1e81590",
   "metadata": {},
   "outputs": [],
   "source": []
  }
 ],
 "metadata": {
  "kernelspec": {
   "display_name": "Python 3 (ipykernel)",
   "language": "python",
   "name": "python3"
  },
  "language_info": {
   "codemirror_mode": {
    "name": "ipython",
    "version": 3
   },
   "file_extension": ".py",
   "mimetype": "text/x-python",
   "name": "python",
   "nbconvert_exporter": "python",
   "pygments_lexer": "ipython3",
   "version": "3.12.3"
  }
 },
 "nbformat": 4,
 "nbformat_minor": 5
}

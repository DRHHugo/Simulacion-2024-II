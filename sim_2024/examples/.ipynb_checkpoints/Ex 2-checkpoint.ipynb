{
 "cells": [
  {
   "cell_type": "code",
   "execution_count": 1,
   "id": "c262c419-7d4d-4f0e-9992-7599c81d24ce",
   "metadata": {},
   "outputs": [],
   "source": [
    "#config PATH\n",
    "from os import chdir,getcwd\n",
    "from platform import system\n",
    "directory = getcwd()\n",
    "if system()=='Linux':\n",
    "    directory_list = directory.split('/')\n",
    "    chdir('/'.join(directory_list[0:len(directory_list)-1])+'/src')\n",
    "elif system()=='Windows':\n",
    "    directory_list = directory.split('\\\\')\n",
    "    chdir('\\\\'.join(directory_list[0:len(directory_list)-1])+'\\\\src')\n",
    "else:\n",
    "    raise OSError('system not suported')\n",
    "from sim_2024 import *\n",
    "from sim_2024.utilities import *\n",
    "from sim_2024.variates import *\n",
    "from matplotlib import pyplot\n",
    "#matplotlib ipympl\n",
    "set_seed(14501)"
   ]
  },
  {
   "cell_type": "code",
   "execution_count": null,
   "id": "1d922b02-1353-468b-9c58-93087b85e605",
   "metadata": {},
   "outputs": [],
   "source": [
    "T = Exponential(rate=2.0)\n",
    "sample_T = T.sample(10000)\n",
    "sum(sample_T)/len(sample_T)"
   ]
  },
  {
   "cell_type": "code",
   "execution_count": 2,
   "id": "8c36d769-99f7-4a78-8eec-41bc5a171c6e",
   "metadata": {},
   "outputs": [
    {
     "data": {
      "text/plain": [
       "0.4943"
      ]
     },
     "execution_count": 2,
     "metadata": {},
     "output_type": "execute_result"
    }
   ],
   "source": [
    "N = Poisson(rate=2.0)\n",
    "sample_N = N.sample(10000)\n",
    "sum(sample_N)/len(sample_N)"
   ]
  },
  {
   "cell_type": "code",
   "execution_count": null,
   "id": "990778b4-4187-4f58-9c1d-268a1ca87c10",
   "metadata": {},
   "outputs": [],
   "source": []
  }
 ],
 "metadata": {
  "kernelspec": {
   "display_name": "Python 3 (ipykernel)",
   "language": "python",
   "name": "python3"
  },
  "language_info": {
   "codemirror_mode": {
    "name": "ipython",
    "version": 3
   },
   "file_extension": ".py",
   "mimetype": "text/x-python",
   "name": "python",
   "nbconvert_exporter": "python",
   "pygments_lexer": "ipython3",
   "version": "3.12.0"
  }
 },
 "nbformat": 4,
 "nbformat_minor": 5
}

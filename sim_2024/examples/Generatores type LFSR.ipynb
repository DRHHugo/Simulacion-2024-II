{
 "cells": [
  {
   "cell_type": "code",
   "execution_count": 1,
   "id": "7597a4f9-0db0-42e1-9fdd-2e94f4916ec0",
   "metadata": {},
   "outputs": [],
   "source": [
    "#config PATH\n",
    "from os import chdir,getcwd\n",
    "directory = getcwd()\n",
    "directory_list = directory.split('\\\\')\n",
    "chdir('\\\\'.join(directory_list[0:len(directory_list)-1])+'\\\\src')\n",
    "#import package\n",
    "from sim_2024.generators import *"
   ]
  },
  {
   "cell_type": "code",
   "execution_count": 2,
   "id": "807142fb-2f40-45de-a9a0-db0a2654eccf",
   "metadata": {},
   "outputs": [
    {
     "data": {
      "text/plain": [
       "65535"
      ]
     },
     "execution_count": 2,
     "metadata": {},
     "output_type": "execute_result"
    }
   ],
   "source": [
    "gen_1 = linear_feedback_shift_register_16(seed=51003)\n",
    "sample = gen_1.sample(70000)\n",
    "len(set(sample))"
   ]
  }
 ],
 "metadata": {
  "kernelspec": {
   "display_name": "Python 3 (ipykernel)",
   "language": "python",
   "name": "python3"
  },
  "language_info": {
   "codemirror_mode": {
    "name": "ipython",
    "version": 3
   },
   "file_extension": ".py",
   "mimetype": "text/x-python",
   "name": "python",
   "nbconvert_exporter": "python",
   "pygments_lexer": "ipython3",
   "version": "3.12.0"
  }
 },
 "nbformat": 4,
 "nbformat_minor": 5
}

{
 "cells": [
  {
   "cell_type": "code",
   "execution_count": 1,
   "id": "e55975e1-4945-45c5-a0fc-d6825a566ca1",
   "metadata": {},
   "outputs": [],
   "source": [
    "#config PATH\n",
    "from os import chdir,getcwd\n",
    "directory = getcwd()\n",
    "directory_list = directory.split('\\\\')\n",
    "chdir('\\\\'.join(directory_list[0:len(directory_list)-1])+'\\\\src')\n",
    "#import package\n",
    "from sim_2024.tests import *\n",
    "#randu = multiplicative_congruential_generator(mod=2**31-1,mult=1132489760,seed=14501)"
   ]
  },
  {
   "cell_type": "code",
   "execution_count": 2,
   "id": "1ac24ea7-9484-4225-b674-753e35ae779a",
   "metadata": {},
   "outputs": [],
   "source": [
    "FILE = open('D:\\\\OneDrive - Universidad La Salle, A.C\\\\2024-II\\\\Act-701\\\\Emmanuel\\\\sample.csv')\n",
    "from csv import reader\n",
    "file_reader = reader(FILE)\n",
    "sample = [float(file_reader.__next__()[0]) for _ in range(1000)]"
   ]
  },
  {
   "cell_type": "code",
   "execution_count": 4,
   "id": "8a05ce62-4313-49f8-9511-ca14488ed17b",
   "metadata": {},
   "outputs": [
    {
     "data": {
      "text/plain": [
       "False"
      ]
     },
     "execution_count": 4,
     "metadata": {},
     "output_type": "execute_result"
    }
   ],
   "source": [
    "(sample,)"
   ]
  },
  {
   "cell_type": "code",
   "execution_count": null,
   "id": "7d339a83-40aa-475d-942e-2698cf55032b",
   "metadata": {},
   "outputs": [],
   "source": []
  }
 ],
 "metadata": {
  "kernelspec": {
   "display_name": "Python 3 (ipykernel)",
   "language": "python",
   "name": "python3"
  },
  "language_info": {
   "codemirror_mode": {
    "name": "ipython",
    "version": 3
   },
   "file_extension": ".py",
   "mimetype": "text/x-python",
   "name": "python",
   "nbconvert_exporter": "python",
   "pygments_lexer": "ipython3",
   "version": "3.12.0"
  }
 },
 "nbformat": 4,
 "nbformat_minor": 5
}

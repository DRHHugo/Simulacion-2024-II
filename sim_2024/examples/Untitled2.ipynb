{
 "cells": [
  {
   "cell_type": "code",
   "execution_count": 1,
   "id": "417447cd-2268-496e-a9a4-7e6e2bf6a31e",
   "metadata": {},
   "outputs": [],
   "source": [
    "#config PATH\n",
    "from os import chdir,getcwd\n",
    "directory = getcwd()\n",
    "directory_list = directory.split('\\\\')\n",
    "chdir('\\\\'.join(directory_list[0:len(directory_list)-1])+'\\\\src')"
   ]
  },
  {
   "cell_type": "code",
   "execution_count": 2,
   "id": "8c2d74f6-07d3-4d4e-8868-fd79d61bb2ec",
   "metadata": {},
   "outputs": [],
   "source": [
    "import sim_2024\n",
    "import sim_2024.utilities as utilities"
   ]
  },
  {
   "cell_type": "code",
   "execution_count": 3,
   "id": "6298d8a0-0549-48e2-899a-6f59192a34c4",
   "metadata": {},
   "outputs": [
    {
     "name": "stderr",
     "output_type": "stream",
     "text": [
      "C:\\Users\\hhcor\\AppData\\Local\\Temp\\ipykernel_3296\\1327550363.py:4: UserWarning: FigureCanvasPgf is non-interactive, and thus cannot be shown\n",
      "  fig_1.show()\n"
     ]
    }
   ],
   "source": [
    "sim_2024.set_seed(14501)\n",
    "sample = sim_2024.rand.sample(400)\n",
    "fig_1 = utilities.HistogramFigure(sample,bins=20,label='Histograma')\n",
    "fig_1.show()"
   ]
  },
  {
   "cell_type": "code",
   "execution_count": 4,
   "id": "d1036178-0089-482f-89a3-f85fe87148f5",
   "metadata": {},
   "outputs": [
    {
     "name": "stderr",
     "output_type": "stream",
     "text": [
      "D:\\OneDrive\\Documents\\GitHub\\Simulacion-2024-II\\sim_2024\\src\\sim_2024\\utilities.py:87: UserWarning: all currently open figures where closed\n",
      "  warn('all currently open figures where closed')\n",
      "C:\\Users\\hhcor\\AppData\\Local\\Temp\\ipykernel_3296\\3964105673.py:3: UserWarning: FigureCanvasPgf is non-interactive, and thus cannot be shown\n",
      "  fig_1.show()\n"
     ]
    }
   ],
   "source": [
    "utilities.switch_backend('nbagg')\n",
    "utilities.figure(fig_1.number)\n",
    "fig_1.show()"
   ]
  },
  {
   "cell_type": "code",
   "execution_count": null,
   "id": "f865cd79-edb4-4aba-bd07-1b9bf355e631",
   "metadata": {},
   "outputs": [],
   "source": []
  },
  {
   "cell_type": "code",
   "execution_count": null,
   "id": "b9f7287e-7d41-4e13-b7e1-fa3592deb120",
   "metadata": {},
   "outputs": [],
   "source": []
  }
 ],
 "metadata": {
  "kernelspec": {
   "display_name": "Python 3 (ipykernel)",
   "language": "python",
   "name": "python3"
  },
  "language_info": {
   "codemirror_mode": {
    "name": "ipython",
    "version": 3
   },
   "file_extension": ".py",
   "mimetype": "text/x-python",
   "name": "python",
   "nbconvert_exporter": "python",
   "pygments_lexer": "ipython3",
   "version": "3.12.6"
  }
 },
 "nbformat": 4,
 "nbformat_minor": 5
}

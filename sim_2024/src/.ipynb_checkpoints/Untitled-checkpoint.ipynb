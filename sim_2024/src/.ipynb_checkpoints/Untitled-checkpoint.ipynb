{
 "cells": [
  {
   "cell_type": "code",
   "execution_count": 1,
   "id": "35d7250d-eb07-47ca-97f9-e9e3d7cbd72c",
   "metadata": {},
   "outputs": [],
   "source": [
    "from sim_2024 import *\n",
    "set_seed(14501)"
   ]
  },
  {
   "cell_type": "code",
   "execution_count": 2,
   "id": "7a51e465-a259-411f-8136-9e2acd6443fc",
   "metadata": {},
   "outputs": [],
   "source": [
    "sample = [2*rand.rand() for _ in range(100)]"
   ]
  },
  {
   "cell_type": "code",
   "execution_count": 3,
   "id": "3e2abb46-29b3-49af-91d7-d66171fd7bc7",
   "metadata": {},
   "outputs": [],
   "source": [
    "f = density_function(lambda x : 1/2,0,2)"
   ]
  },
  {
   "cell_type": "code",
   "execution_count": 4,
   "id": "ddf60331-8409-4872-af58-a87d79a1e0d0",
   "metadata": {},
   "outputs": [],
   "source": [
    "fig_1 = HistogramFigure(sample,f,bins=[0+2*k/10 for k in range(11)])\n",
    "fig_1.show()"
   ]
  },
  {
   "cell_type": "code",
   "execution_count": null,
   "id": "e9654cc8-ced7-49ac-b8ff-9a6056381bdc",
   "metadata": {},
   "outputs": [],
   "source": []
  }
 ],
 "metadata": {
  "kernelspec": {
   "display_name": "Python 3 (ipykernel)",
   "language": "python",
   "name": "python3"
  },
  "language_info": {
   "codemirror_mode": {
    "name": "ipython",
    "version": 3
   },
   "file_extension": ".py",
   "mimetype": "text/x-python",
   "name": "python",
   "nbconvert_exporter": "python",
   "pygments_lexer": "ipython3",
   "version": "3.11.4"
  }
 },
 "nbformat": 4,
 "nbformat_minor": 5
}

{
 "cells": [
  {
   "cell_type": "code",
   "execution_count": 1,
   "id": "87c47eec-4424-44f0-8d90-42aaf3ab527f",
   "metadata": {},
   "outputs": [],
   "source": [
    "import sim_2024\n",
    "from sim_2024.variates import Bernoulli"
   ]
  },
  {
   "cell_type": "code",
   "execution_count": 2,
   "id": "a7474bc8-533e-4ba0-818d-cc3796aa8adf",
   "metadata": {},
   "outputs": [],
   "source": [
    "sim_2024.set_seed(14501)"
   ]
  },
  {
   "cell_type": "code",
   "execution_count": 4,
   "id": "27c31889-2e38-4d18-bb97-20efdce46610",
   "metadata": {},
   "outputs": [],
   "source": [
    "X = Bernoulli(p=0.3)\n",
    "sample = [X.rand() for _ in range(10)]"
   ]
  },
  {
   "cell_type": "code",
   "execution_count": 5,
   "id": "5aefc93f-ab70-4e42-921b-66815884c9b1",
   "metadata": {},
   "outputs": [
    {
     "data": {
      "text/plain": [
       "[1.0, 1.0, 0.0, 0.0, 0.0, 1.0, 0.0, 0.0, 0.0, 0.0]"
      ]
     },
     "execution_count": 5,
     "metadata": {},
     "output_type": "execute_result"
    }
   ],
   "source": [
    "sample"
   ]
  },
  {
   "cell_type": "code",
   "execution_count": 6,
   "id": "7a6e40f6-5a69-4a01-97a5-b688f3204d74",
   "metadata": {},
   "outputs": [
    {
     "data": {
      "text/plain": [
       "[0.0, 1.0, 0.0, 1.0, 1.0, 0.0, 0.0, 0.0, 1.0, 0.0]"
      ]
     },
     "execution_count": 6,
     "metadata": {},
     "output_type": "execute_result"
    }
   ],
   "source": [
    "[X.rand() for _ in range(10)]"
   ]
  },
  {
   "cell_type": "code",
   "execution_count": null,
   "id": "56bb9e12-9eeb-4674-a785-63e122df4db1",
   "metadata": {},
   "outputs": [],
   "source": []
  }
 ],
 "metadata": {
  "kernelspec": {
   "display_name": "Python 3 (ipykernel)",
   "language": "python",
   "name": "python3"
  },
  "language_info": {
   "codemirror_mode": {
    "name": "ipython",
    "version": 3
   },
   "file_extension": ".py",
   "mimetype": "text/x-python",
   "name": "python",
   "nbconvert_exporter": "python",
   "pygments_lexer": "ipython3",
   "version": "3.12.3"
  }
 },
 "nbformat": 4,
 "nbformat_minor": 5
}

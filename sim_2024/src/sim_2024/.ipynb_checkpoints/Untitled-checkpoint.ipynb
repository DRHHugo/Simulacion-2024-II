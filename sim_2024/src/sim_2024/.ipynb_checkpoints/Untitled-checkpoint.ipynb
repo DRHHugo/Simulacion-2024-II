{
 "cells": [
  {
   "cell_type": "code",
   "execution_count": 13,
   "id": "f8b6cdd2-5525-4d93-be0c-87a7f3349748",
   "metadata": {},
   "outputs": [],
   "source": [
    "FILE_init = open('__init__.py')\n",
    "exec(FILE_init.read())\n",
    "FILE_gen = open('generators.py')\n",
    "exec(FILE_gen.read())"
   ]
  },
  {
   "cell_type": "code",
   "execution_count": 14,
   "id": "82cc3b71-ec03-42e4-afe4-10ebada70142",
   "metadata": {},
   "outputs": [],
   "source": [
    "random = multcombi_congruential_generator(mods=[67891200,97679951],mults=[45,68,1245,3349,980,234],seeds=[34001,561234,90123,21998,567,456])"
   ]
  },
  {
   "cell_type": "code",
   "execution_count": 16,
   "id": "8b1f9e3f-ad6d-4d24-889b-260cb6510b6e",
   "metadata": {},
   "outputs": [
    {
     "data": {
      "text/plain": [
       "[21998, 567, 456]"
      ]
     },
     "execution_count": 16,
     "metadata": {},
     "output_type": "execute_result"
    }
   ],
   "source": [
    "random._state_2"
   ]
  },
  {
   "cell_type": "code",
   "execution_count": null,
   "id": "ac970000-5ec1-45a4-9d03-9b8fc08ab997",
   "metadata": {},
   "outputs": [],
   "source": []
  }
 ],
 "metadata": {
  "kernelspec": {
   "display_name": "Python 3 (ipykernel)",
   "language": "python",
   "name": "python3"
  },
  "language_info": {
   "codemirror_mode": {
    "name": "ipython",
    "version": 3
   },
   "file_extension": ".py",
   "mimetype": "text/x-python",
   "name": "python",
   "nbconvert_exporter": "python",
   "pygments_lexer": "ipython3",
   "version": "3.12.0"
  }
 },
 "nbformat": 4,
 "nbformat_minor": 5
}
